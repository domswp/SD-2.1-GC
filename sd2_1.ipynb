{
  "nbformat": 4,
  "nbformat_minor": 0,
  "metadata": {
    "colab": {
      "provenance": []
    },
    "kernelspec": {
      "name": "python3",
      "display_name": "Python 3"
    },
    "language_info": {
      "name": "python"
    },
    "accelerator": "GPU",
    "gpuClass": "standard"
  },
  "cells": [
    {
      "cell_type": "code",
      "source": [
        "!git clone https://github.com/AUTOMATIC1111/stable-diffusion-webui\n",
        "%pip install -q https://github.com/brian6091/xformers-wheels/releases/download/0.0.15.dev0%2B4c06c79/xformers-0.0.15.dev0+4c06c79.d20221205-cp38-cp38-linux_x86_64.whl\n",
        "!curl -Lo model.ckpt https://huggingface.co/stabilityai/stable-diffusion-2-1/resolve/main/v2-1_768-ema-pruned.ckpt\n",
        "!curl -Lo model.yaml https://raw.githubusercontent.com/Stability-AI/stablediffusion/main/configs/stable-diffusion/v2-inference-v.yaml\n",
        "!mv \"/content/model.ckpt\" \"/content/stable-diffusion-webui/models/Stable-diffusion\"\n",
        "!mv \"/content/model.yaml\" \"/content/stable-diffusion-webui/models/Stable-diffusion\"\n",
        "%cd /content/stable-diffusion-webui\n",
        "!COMMANDLINE_ARGS=\"--share --gradio-debug --medvram --disable-safe-unpickle --force-enable-xformers\" REQS_FILE=\"requirements.txt\" python launch.py"
      ],
      "metadata": {
        "id": "2YU73dRwTffj"
      },
      "execution_count": null,
      "outputs": []
    },
    {
      "cell_type": "markdown",
      "metadata": {
        "id": "fhwIXzcgfkoR"
      },
      "source": [
        "# 📚 GitHub for more: [_@domswp_](https://github.com/domswp)\n",
        "# 📦 Repo: [Github](https://github.com/domswp/SD-2.1-GC)"
      ]
    }
  ]
}
